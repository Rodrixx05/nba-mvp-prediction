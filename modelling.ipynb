{
 "cells": [
  {
   "cell_type": "code",
   "execution_count": 1,
   "metadata": {},
   "outputs": [],
   "source": [
    "import pandas as pd\n",
    "import numpy as np\n",
    "import os\n",
    "\n",
    "from sklearn import model_selection, metrics\n",
    "from sklearn.base import BaseEstimator, TransformerMixin\n",
    "from sklearn.preprocessing import LabelEncoder\n",
    "from sklearn.pipeline import Pipeline\n",
    "\n",
    "import mlflow"
   ]
  },
  {
   "cell_type": "code",
   "execution_count": 2,
   "metadata": {},
   "outputs": [],
   "source": [
    "dataframes_path = os.path.join(os.getcwd(), 'dataframes')"
   ]
  },
  {
   "cell_type": "code",
   "execution_count": 3,
   "metadata": {},
   "outputs": [],
   "source": [
    "df = pd.read_pickle(os.path.join(dataframes_path, 'complete_stats.pkl'))"
   ]
  },
  {
   "cell_type": "code",
   "execution_count": 4,
   "metadata": {},
   "outputs": [],
   "source": [
    "def check_rk_season(df, rk_season_pairs):\n",
    "    return df.apply(lambda x: (x['Rk'], x['Season']) in rk_season_pairs, axis = 1)\n",
    "\n",
    "def drop_players_multiteams(df):\n",
    "    df_tot = df[df['Tm'] == 'TOT']\n",
    "    rk_season_pairs = list(zip(df_tot['Rk'], df_tot['Season']))\n",
    "    df_tot_full = df[check_rk_season(df, rk_season_pairs)]\n",
    "    drop_index = df_tot_full[df_tot_full['Tm'] != 'TOT'].index\n",
    "    return df.drop(drop_index).reset_index(drop = True)"
   ]
  },
  {
   "cell_type": "markdown",
   "metadata": {},
   "source": [
    "- Drop players with more than one team\n",
    "- Index with tuple for Rk & Player\n",
    "- Drop columns, Rk GT, Votes, MaxVotes\n",
    "- LabelEncode for Player, Pos and Team\n",
    "- Separate types of columns"
   ]
  },
  {
   "cell_type": "code",
   "execution_count": 5,
   "metadata": {},
   "outputs": [],
   "source": [
    "class DropPlayersMultiTeams(BaseEstimator, TransformerMixin):\n",
    "\n",
    "    def __init__(self):\n",
    "        pass\n",
    "        \n",
    "    def fit(self, X, y = None):\n",
    "        return self\n",
    "    \n",
    "    def transform(self, X, y = None):   \n",
    "        df_tot = X[X['Tm'] == 'TOT']\n",
    "        rk_season_pairs = list(zip(df_tot['Rk'], df_tot['Season']))\n",
    "        df_tot_full = X[check_rk_season(X, rk_season_pairs)]\n",
    "        drop_index = df_tot_full[df_tot_full['Tm'] != 'TOT'].index\n",
    "        return X.drop(drop_index).reset_index(drop = True)"
   ]
  },
  {
   "cell_type": "code",
   "execution_count": 6,
   "metadata": {},
   "outputs": [],
   "source": [
    "class DropColumns(BaseEstimator, TransformerMixin):\n",
    "    def __init__(self, cols_to_drop):\n",
    "        self.cols_to_drop = cols_to_drop\n",
    "    \n",
    "    def fit(self, X, y = None):\n",
    "        return self\n",
    "    \n",
    "    def transform(self, X, y = None):\n",
    "        return X.drop(columns = self.cols_to_drop)"
   ]
  },
  {
   "cell_type": "code",
   "execution_count": 7,
   "metadata": {},
   "outputs": [],
   "source": [
    "class SetIndex(BaseEstimator, TransformerMixin):\n",
    "    def __init__(self):\n",
    "        pass\n",
    "    \n",
    "    def fit(self, X, y = None):\n",
    "        return self\n",
    "    \n",
    "    def transform(self, X, y = None):\n",
    "        return X.set_index(['Rk', 'Season'], drop = False)"
   ]
  },
  {
   "cell_type": "code",
   "execution_count": 8,
   "metadata": {},
   "outputs": [],
   "source": [
    "cols_to_drop = ['Rk', 'GT', 'Votes', 'MaxVotes', 'FG_tot', '3PA_tot', '2PA_tot', 'FGA_tot_rank']"
   ]
  },
  {
   "cell_type": "code",
   "execution_count": 9,
   "metadata": {},
   "outputs": [],
   "source": [
    "pipe = Pipeline(steps = [\n",
    "    ('DropPlayersMultiTeams', DropPlayersMultiTeams()),\n",
    "    ('SetIndex', SetIndex()),\n",
    "    ('DropColumns', DropColumns(cols_to_drop))\n",
    "])"
   ]
  },
  {
   "cell_type": "code",
   "execution_count": 10,
   "metadata": {},
   "outputs": [],
   "source": [
    "df = pipe.fit_transform(df)"
   ]
  },
  {
   "cell_type": "code",
   "execution_count": 11,
   "metadata": {},
   "outputs": [],
   "source": [
    "encoder_player = LabelEncoder()\n",
    "encoder_position = LabelEncoder()\n",
    "encoder_team = LabelEncoder()"
   ]
  },
  {
   "cell_type": "code",
   "execution_count": 12,
   "metadata": {},
   "outputs": [],
   "source": [
    "df['Player'] = encoder_player.fit_transform(df['Player'])\n",
    "df['Pos'] = encoder_player.fit_transform(df['Pos'])\n",
    "df['Tm'] = encoder_team.fit_transform(df['Tm'])"
   ]
  },
  {
   "cell_type": "code",
   "execution_count": 13,
   "metadata": {},
   "outputs": [
    {
     "data": {
      "text/html": [
       "<div>\n",
       "<style scoped>\n",
       "    .dataframe tbody tr th:only-of-type {\n",
       "        vertical-align: middle;\n",
       "    }\n",
       "\n",
       "    .dataframe tbody tr th {\n",
       "        vertical-align: top;\n",
       "    }\n",
       "\n",
       "    .dataframe thead th {\n",
       "        text-align: right;\n",
       "    }\n",
       "</style>\n",
       "<table border=\"1\" class=\"dataframe\">\n",
       "  <thead>\n",
       "    <tr style=\"text-align: right;\">\n",
       "      <th></th>\n",
       "      <th></th>\n",
       "      <th>Player</th>\n",
       "      <th>Pos</th>\n",
       "      <th>Age</th>\n",
       "      <th>Tm</th>\n",
       "      <th>G</th>\n",
       "      <th>GS</th>\n",
       "      <th>MP_pg</th>\n",
       "      <th>FG_pg</th>\n",
       "      <th>FGA_pg</th>\n",
       "      <th>FG%</th>\n",
       "      <th>...</th>\n",
       "      <th>DWS_rank</th>\n",
       "      <th>WS_rank</th>\n",
       "      <th>WS/48_rank</th>\n",
       "      <th>OBPM_rank</th>\n",
       "      <th>DBPM_rank</th>\n",
       "      <th>BPM_rank</th>\n",
       "      <th>VORP_rank</th>\n",
       "      <th>%W_rank</th>\n",
       "      <th>%GS</th>\n",
       "      <th>Share</th>\n",
       "    </tr>\n",
       "    <tr>\n",
       "      <th>Rk</th>\n",
       "      <th>Season</th>\n",
       "      <th></th>\n",
       "      <th></th>\n",
       "      <th></th>\n",
       "      <th></th>\n",
       "      <th></th>\n",
       "      <th></th>\n",
       "      <th></th>\n",
       "      <th></th>\n",
       "      <th></th>\n",
       "      <th></th>\n",
       "      <th></th>\n",
       "      <th></th>\n",
       "      <th></th>\n",
       "      <th></th>\n",
       "      <th></th>\n",
       "      <th></th>\n",
       "      <th></th>\n",
       "      <th></th>\n",
       "      <th></th>\n",
       "      <th></th>\n",
       "      <th></th>\n",
       "    </tr>\n",
       "  </thead>\n",
       "  <tbody>\n",
       "    <tr>\n",
       "      <th>1</th>\n",
       "      <th>1980</th>\n",
       "      <td>1729</td>\n",
       "      <td>0</td>\n",
       "      <td>32</td>\n",
       "      <td>16</td>\n",
       "      <td>82</td>\n",
       "      <td>-10</td>\n",
       "      <td>38.3</td>\n",
       "      <td>10.2</td>\n",
       "      <td>16.9</td>\n",
       "      <td>0.604</td>\n",
       "      <td>...</td>\n",
       "      <td>3</td>\n",
       "      <td>1</td>\n",
       "      <td>1</td>\n",
       "      <td>5</td>\n",
       "      <td>7</td>\n",
       "      <td>2</td>\n",
       "      <td>1</td>\n",
       "      <td>2</td>\n",
       "      <td>-1.0</td>\n",
       "      <td>0.665</td>\n",
       "    </tr>\n",
       "    <tr>\n",
       "      <th>2</th>\n",
       "      <th>1980</th>\n",
       "      <td>3007</td>\n",
       "      <td>2</td>\n",
       "      <td>25</td>\n",
       "      <td>11</td>\n",
       "      <td>67</td>\n",
       "      <td>-10</td>\n",
       "      <td>18.2</td>\n",
       "      <td>2.3</td>\n",
       "      <td>4.7</td>\n",
       "      <td>0.481</td>\n",
       "      <td>...</td>\n",
       "      <td>44</td>\n",
       "      <td>71</td>\n",
       "      <td>83</td>\n",
       "      <td>50</td>\n",
       "      <td>32</td>\n",
       "      <td>54</td>\n",
       "      <td>41</td>\n",
       "      <td>44</td>\n",
       "      <td>-1.0</td>\n",
       "      <td>0.000</td>\n",
       "    </tr>\n",
       "    <tr>\n",
       "      <th>3</th>\n",
       "      <th>1980</th>\n",
       "      <td>89</td>\n",
       "      <td>0</td>\n",
       "      <td>25</td>\n",
       "      <td>29</td>\n",
       "      <td>75</td>\n",
       "      <td>-10</td>\n",
       "      <td>28.9</td>\n",
       "      <td>6.2</td>\n",
       "      <td>11.7</td>\n",
       "      <td>0.531</td>\n",
       "      <td>...</td>\n",
       "      <td>13</td>\n",
       "      <td>27</td>\n",
       "      <td>21</td>\n",
       "      <td>23</td>\n",
       "      <td>11</td>\n",
       "      <td>12</td>\n",
       "      <td>12</td>\n",
       "      <td>6</td>\n",
       "      <td>-1.0</td>\n",
       "      <td>0.000</td>\n",
       "    </tr>\n",
       "    <tr>\n",
       "      <th>4</th>\n",
       "      <th>1980</th>\n",
       "      <td>2994</td>\n",
       "      <td>5</td>\n",
       "      <td>31</td>\n",
       "      <td>1</td>\n",
       "      <td>80</td>\n",
       "      <td>80</td>\n",
       "      <td>35.8</td>\n",
       "      <td>4.8</td>\n",
       "      <td>9.9</td>\n",
       "      <td>0.482</td>\n",
       "      <td>...</td>\n",
       "      <td>23</td>\n",
       "      <td>14</td>\n",
       "      <td>25</td>\n",
       "      <td>26</td>\n",
       "      <td>33</td>\n",
       "      <td>31</td>\n",
       "      <td>20</td>\n",
       "      <td>1</td>\n",
       "      <td>1.0</td>\n",
       "      <td>0.009</td>\n",
       "    </tr>\n",
       "    <tr>\n",
       "      <th>5</th>\n",
       "      <th>1980</th>\n",
       "      <td>793</td>\n",
       "      <td>0</td>\n",
       "      <td>31</td>\n",
       "      <td>5</td>\n",
       "      <td>26</td>\n",
       "      <td>-10</td>\n",
       "      <td>21.5</td>\n",
       "      <td>1.0</td>\n",
       "      <td>2.3</td>\n",
       "      <td>0.450</td>\n",
       "      <td>...</td>\n",
       "      <td>47</td>\n",
       "      <td>85</td>\n",
       "      <td>109</td>\n",
       "      <td>63</td>\n",
       "      <td>21</td>\n",
       "      <td>56</td>\n",
       "      <td>42</td>\n",
       "      <td>38</td>\n",
       "      <td>-1.0</td>\n",
       "      <td>0.000</td>\n",
       "    </tr>\n",
       "  </tbody>\n",
       "</table>\n",
       "<p>5 rows × 130 columns</p>\n",
       "</div>"
      ],
      "text/plain": [
       "           Player  Pos  Age  Tm   G  GS  MP_pg  FG_pg  FGA_pg    FG%  ...  \\\n",
       "Rk Season                                                             ...   \n",
       "1  1980      1729    0   32  16  82 -10   38.3   10.2    16.9  0.604  ...   \n",
       "2  1980      3007    2   25  11  67 -10   18.2    2.3     4.7  0.481  ...   \n",
       "3  1980        89    0   25  29  75 -10   28.9    6.2    11.7  0.531  ...   \n",
       "4  1980      2994    5   31   1  80  80   35.8    4.8     9.9  0.482  ...   \n",
       "5  1980       793    0   31   5  26 -10   21.5    1.0     2.3  0.450  ...   \n",
       "\n",
       "           DWS_rank  WS_rank  WS/48_rank  OBPM_rank  DBPM_rank  BPM_rank  \\\n",
       "Rk Season                                                                  \n",
       "1  1980           3        1           1          5          7         2   \n",
       "2  1980          44       71          83         50         32        54   \n",
       "3  1980          13       27          21         23         11        12   \n",
       "4  1980          23       14          25         26         33        31   \n",
       "5  1980          47       85         109         63         21        56   \n",
       "\n",
       "           VORP_rank  %W_rank  %GS  Share  \n",
       "Rk Season                                  \n",
       "1  1980            1        2 -1.0  0.665  \n",
       "2  1980           41       44 -1.0  0.000  \n",
       "3  1980           12        6 -1.0  0.000  \n",
       "4  1980           20        1  1.0  0.009  \n",
       "5  1980           42       38 -1.0  0.000  \n",
       "\n",
       "[5 rows x 130 columns]"
      ]
     },
     "execution_count": 13,
     "metadata": {},
     "output_type": "execute_result"
    }
   ],
   "source": [
    "df.head()"
   ]
  },
  {
   "cell_type": "code",
   "execution_count": 19,
   "metadata": {},
   "outputs": [
    {
     "data": {
      "text/plain": [
       "0.20318950404343156"
      ]
     },
     "execution_count": 19,
     "metadata": {},
     "output_type": "execute_result"
    }
   ],
   "source": [
    "len(df[df['Season'] > 2014]) / len(df)"
   ]
  }
 ],
 "metadata": {
  "interpreter": {
   "hash": "ecf5722fdaf1897a315d257d89d94520bfcaa453217d5becf09b39e73618b0de"
  },
  "kernelspec": {
   "display_name": "Python 3.8.5 ('base')",
   "language": "python",
   "name": "python3"
  },
  "language_info": {
   "codemirror_mode": {
    "name": "ipython",
    "version": 3
   },
   "file_extension": ".py",
   "mimetype": "text/x-python",
   "name": "python",
   "nbconvert_exporter": "python",
   "pygments_lexer": "ipython3",
   "version": "3.8.5"
  },
  "orig_nbformat": 4
 },
 "nbformat": 4,
 "nbformat_minor": 2
}
